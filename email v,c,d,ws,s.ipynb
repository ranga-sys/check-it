{
 "cells": [
  {
   "cell_type": "code",
   "execution_count": 4,
   "metadata": {},
   "outputs": [
    {
     "name": "stdout",
     "output_type": "stream",
     "text": [
      "enter name/email to check:Jupyter Notebook email v,c,d,ws,s Last Checkpoint: a minute ago (unsaved changes) Current Kernel Logo Python 3  File Edit View Insert Cell Kernel Widgets Help  Code a = input(\"enter name/email to check:\") A = a.lower() vowels = \"aeiou\" consonants = \"bcdfghjklmnpqrstvwxyz\" digits = \"1234567890\" space = \" \" symbol = \"@,./?<>;:+=_-!#$%^&*()[]{}₹\\|\" v = 0 c = 0 d = 0 ws = 0 s = 0 for i in a:     if i in vowels:         v+=1     elif i in consonants:         c+=1     elif i in digits:         d+=1     elif i in space:         ws+=1     elif i in symbol:         s+=1 print('vowels = ',v) print('consonants = ',c) print('digits = ',d) print('space = ',ws) print('symbol =',s) enter name/email to check:\n",
      "vowels =  132\n",
      "consonants =  243\n",
      "digits =  21\n",
      "space =  173\n",
      "symbol = 93\n"
     ]
    }
   ],
   "source": [
    "a = input(\"enter name/email to check:\")\n",
    "A = a.lower()\n",
    "vowels = \"aeiou\"\n",
    "consonants = \"bcdfghjklmnpqrstvwxyz\"\n",
    "digits = \"1234567890\"\n",
    "space = \" \"\n",
    "symbol = \"@,./?<>;:+=_-!#$%^&*()[]{}₹\\|\"\n",
    "v = 0\n",
    "c = 0\n",
    "d = 0\n",
    "ws = 0\n",
    "s = 0\n",
    "for i in a:\n",
    "    if i in vowels:\n",
    "        v+=1\n",
    "    elif i in consonants:\n",
    "        c+=1\n",
    "    elif i in digits:\n",
    "        d+=1\n",
    "    elif i in space:\n",
    "        ws+=1\n",
    "    elif i in symbol:\n",
    "        s+=1\n",
    "print('vowels = ',v)\n",
    "print('consonants = ',c)\n",
    "print('digits = ',d)\n",
    "print('space = ',ws)\n",
    "print('symbol =',s)"
   ]
  }
 ],
 "metadata": {
  "kernelspec": {
   "display_name": "Python 3",
   "language": "python",
   "name": "python3"
  },
  "language_info": {
   "codemirror_mode": {
    "name": "ipython",
    "version": 3
   },
   "file_extension": ".py",
   "mimetype": "text/x-python",
   "name": "python",
   "nbconvert_exporter": "python",
   "pygments_lexer": "ipython3",
   "version": "3.9.1"
  }
 },
 "nbformat": 4,
 "nbformat_minor": 4
}
